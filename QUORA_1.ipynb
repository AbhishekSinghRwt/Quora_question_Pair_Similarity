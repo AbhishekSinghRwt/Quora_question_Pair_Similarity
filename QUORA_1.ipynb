{
 "cells": [
  {
   "cell_type": "markdown",
   "id": "ac37fa3d",
   "metadata": {},
   "source": [
    "<h1 style=\"text-align:center;font-size:30px;\" > Quora Question Pairs </h1>"
   ]
  },
  {
   "cell_type": "markdown",
   "id": "80b1fbcf",
   "metadata": {},
   "source": [
    "<h1> 1. Business Problem </h1>"
   ]
  },
  {
   "cell_type": "markdown",
   "id": "d0a4043d",
   "metadata": {},
   "source": [
    "<h1> 1.1 Description </h1>"
   ]
  },
  {
   "cell_type": "markdown",
   "id": "65236181",
   "metadata": {},
   "source": [
    "Quora is a place to gain and share knowledge—about anything. It’s a platform to ask questions and connect with people who contribute unique insights and quality answers. This empowers people to learn from each other and to better understand the world.\n",
    "\n",
    "Over 100 million people visit Quora every month, so it's no surprise that many people ask similarly worded questions. Multiple questions with the same intent can cause seekers to spend more time finding the best answer to their question, and make writers feel they need to answer multiple versions of the same question. Quora values canonical questions because they provide a better experience to active seekers and writers, and offer more value to both of these groups in the long term.\n",
    "\n",
    "\n",
    "> Credits: Kaggle"
   ]
  },
  {
   "cell_type": "markdown",
   "id": "c936eabe",
   "metadata": {},
   "source": [
    "__ Problem Statement __\n",
    "\n",
    "Identify which questions asked on Quora are duplicates of questions that have already been asked.\n",
    "This could be useful to instantly provide answers to questions that have already been answered.\n",
    "We are tasked with predicting whether a pair of questions are duplicates or not."
   ]
  },
  {
   "cell_type": "markdown",
   "id": "27090a83",
   "metadata": {},
   "source": [
    "<h1> Business/Real world objectives and constraints </h1>"
   ]
  },
  {
   "cell_type": "markdown",
   "id": "e51e2992",
   "metadata": {},
   "source": [
    "1. Cost of miscassifiaction can be high .\n",
    "2. No strict layency concerns .\n",
    "3. Interpretability is partial important ."
   ]
  },
  {
   "cell_type": "markdown",
   "id": "09276204",
   "metadata": {},
   "source": [
    "<h1> 2. Machine learning problem </h1>"
   ]
  },
  {
   "cell_type": "markdown",
   "id": "9265f573",
   "metadata": {},
   "source": [
    "<h2> 2.1. Data </h2>"
   ]
  },
  {
   "cell_type": "markdown",
   "id": "41ff1951",
   "metadata": {},
   "source": [
    "<h3> 2.1.1 Data Overview </h3>"
   ]
  },
  {
   "cell_type": "markdown",
   "id": "1802087c",
   "metadata": {},
   "source": [
    "- Data will be in a file train.csv .\n",
    "- train.csv contins 5 columns : qid1 , qid2 , question1 , question2 , is_duplicate\n",
    "- Size of train.csv is 60Mb .\n",
    "- Total numbers of rows in train.csv is 404,290"
   ]
  },
  {
   "cell_type": "markdown",
   "id": "e46a9162",
   "metadata": {},
   "source": [
    "<h2> 2.2 Mapping Real world problem to an ML problem </h2>"
   ]
  },
  {
   "cell_type": "markdown",
   "id": "afbff4e5",
   "metadata": {},
   "source": [
    "<h3> 2.2.1 Type of Machine Learning Problem </h3>"
   ]
  },
  {
   "cell_type": "markdown",
   "id": "6beaa792",
   "metadata": {},
   "source": [
    "It is binary classification problem , for a given pair of questions we need to predict is_duplicate or not ."
   ]
  },
  {
   "cell_type": "markdown",
   "id": "605fbed3",
   "metadata": {},
   "source": [
    "<h3> 2.2.2 Performance Matics </h3>"
   ]
  },
  {
   "cell_type": "markdown",
   "id": "b60447e6",
   "metadata": {},
   "source": [
    "Metrics:\n",
    "* Log_loss\n",
    "* Cofusion Matrix"
   ]
  },
  {
   "cell_type": "markdown",
   "id": "aca32d08",
   "metadata": {},
   "source": [
    "<h2> 2.3. Train Test Split Construction </h2>"
   ]
  },
  {
   "cell_type": "markdown",
   "id": "7b2f5997",
   "metadata": {},
   "source": [
    "<p>  </p>\n",
    "<p> We build train and test by randomly splitting in the ratio of 70:30 or 80:20 whatever we choose as we have sufficient points to work with. </p>"
   ]
  },
  {
   "cell_type": "markdown",
   "id": "60109a6c",
   "metadata": {},
   "source": [
    "<h1> 3. Exploratory Data Analysis </h1>"
   ]
  },
  {
   "cell_type": "code",
   "execution_count": 10,
   "id": "f0f39151",
   "metadata": {},
   "outputs": [],
   "source": [
    "import pandas as pd\n",
    "import matplotlib.pyplot as plt \n",
    "import seaborn as sn \n",
    "import numpy as np \n",
    "import nltk \n",
    "import re\n",
    "import os \n",
    "from sklearn.model_selection import train_test_split\n",
    "from sklearn.metrics import log_loss\n",
    "from sklearn.metrics import confusion_matrix\n",
    "from nltk.corpus import stopwords\n",
    "from nltk.tokenize import word_tokenize\n",
    "from nltk.stem import PorterStemmer\n",
    "from fuzzywuzzy import fuzz\n",
    "from bs4 import BeautifulSoup\n",
    "import distance"
   ]
  },
  {
   "cell_type": "markdown",
   "id": "29eac627",
   "metadata": {},
   "source": [
    "<h2> 3.1. Reading Data and Basic Stats </h2>"
   ]
  },
  {
   "cell_type": "code",
   "execution_count": 11,
   "id": "ac46520d",
   "metadata": {},
   "outputs": [],
   "source": [
    "df= pd.read_csv('train.csv')\n",
    "\n",
    "df=df.head(150000)"
   ]
  },
  {
   "cell_type": "code",
   "execution_count": 12,
   "id": "f120d30f",
   "metadata": {},
   "outputs": [
    {
     "name": "stdout",
     "output_type": "stream",
     "text": [
      "<class 'pandas.core.frame.DataFrame'>\n",
      "RangeIndex: 150000 entries, 0 to 149999\n",
      "Data columns (total 6 columns):\n",
      " #   Column        Non-Null Count   Dtype \n",
      "---  ------        --------------   ----- \n",
      " 0   id            150000 non-null  int64 \n",
      " 1   qid1          150000 non-null  int64 \n",
      " 2   qid2          150000 non-null  int64 \n",
      " 3   question1     150000 non-null  object\n",
      " 4   question2     149999 non-null  object\n",
      " 5   is_duplicate  150000 non-null  int64 \n",
      "dtypes: int64(4), object(2)\n",
      "memory usage: 6.9+ MB\n"
     ]
    }
   ],
   "source": [
    "df.info()"
   ]
  },
  {
   "cell_type": "markdown",
   "id": "4366c7e7",
   "metadata": {},
   "source": [
    "We are given minimal numbers of data fields here , consisting of  :\n",
    "\n",
    "* id: Looks like simple row_id \n",
    "* qid{1,2}: The unique id of each question in the pair \n",
    "* question{1,2} : The Actual text contents of question .\n",
    "* is_duplicate : The label that we trying to preict - whether the two questions are duplicate of each other ."
   ]
  },
  {
   "cell_type": "markdown",
   "id": "eb412f7b",
   "metadata": {},
   "source": [
    "<h2> 3.2. Distribution of Data among Output clasees </h2>"
   ]
  },
  {
   "cell_type": "code",
   "execution_count": 13,
   "id": "75a26841",
   "metadata": {},
   "outputs": [
    {
     "data": {
      "text/plain": [
       "<AxesSubplot:xlabel='is_duplicate'>"
      ]
     },
     "execution_count": 13,
     "metadata": {},
     "output_type": "execute_result"
    },
    {
     "data": {
      "image/png": "[encoded data removed]",
      "text/plain": [
       "<Figure size 432x288 with 1 Axes>"
      ]
     },
     "metadata": {
      "needs_background": "light"
     },
     "output_type": "display_data"
    }
   ],
   "source": [
    "df.groupby('is_duplicate')['id'].count().plot.bar()"
   ]
  },
  {
   "cell_type": "code",
   "execution_count": 14,
   "id": "b85431bd",
   "metadata": {},
   "outputs": [
    {
     "name": "stdout",
     "output_type": "stream",
     "text": [
      "Total number of question pair in D_train:  150000\n"
     ]
    }
   ],
   "source": [
    "print('Total number of question pair in D_train: ', len(df))"
   ]
  },
  {
   "cell_type": "code",
   "execution_count": 15,
   "id": "25e9f2d4",
   "metadata": {},
   "outputs": [
    {
     "name": "stdout",
     "output_type": "stream",
     "text": [
      "Total no of duplicate quetion : 37.24%\n",
      "Total no of non duplicate quetion : 62.76 %\n"
     ]
    }
   ],
   "source": [
    "print('Total no of duplicate quetion : {}%'.format(round(df['is_duplicate'].mean()*100, 2 ) ) )\n",
    "\n",
    "print('Total no of non duplicate quetion : {} %'.format(100 - round(df['is_duplicate'].mean()*100, 2 ) ))"
   ]
  },
  {
   "cell_type": "markdown",
   "id": "32ec593c",
   "metadata": {},
   "source": [
    "<h3> 3.2.2 No of unique  questions </h3>"
   ]
  },
  {
   "cell_type": "code",
   "execution_count": 16,
   "id": "44b47821",
   "metadata": {},
   "outputs": [
    {
     "name": "stdout",
     "output_type": "stream",
     "text": [
      "Total no of unique question : 236162\n",
      "\n",
      "NO of unique question that appear more than 1 time : 33088  (14.010721453917228)% \n",
      "\n",
      "Question that appear most time : 52\n"
     ]
    }
   ],
   "source": [
    "qids = pd.Series(df['qid1'].tolist()+df['qid2'].tolist())\n",
    "unique_qs = len(np.unique(qids))\n",
    "q_more_than_1time =  np.sum(qids.value_counts() >1)\n",
    "\n",
    "print('Total no of unique question :', unique_qs)\n",
    "\n",
    "print('\\nNO of unique question that appear more than 1 time : {}  ({})% '.format(q_more_than_1time , q_more_than_1time/unique_qs*100))\n",
    "\n",
    "\n",
    "print('\\nQuestion that appear most time :', max(qids.value_counts()))\n",
    "\n",
    "#q_vals = qids.value_counts()\n",
    "#q_vals= q_vals.values "
   ]
  },
  {
   "cell_type": "code",
   "execution_count": 17,
   "id": "c11b19f2",
   "metadata": {},
   "outputs": [
    {
     "name": "stderr",
     "output_type": "stream",
     "text": [
      "C:\\Users\\welcome\\anaconda3\\lib\\site-packages\\seaborn\\_decorators.py:36: FutureWarning: Pass the following variables as keyword args: x, y. From version 0.12, the only valid positional argument will be `data`, and passing other arguments without an explicit keyword will result in an error or misinterpretation.\n",
      "  warnings.warn(\n"
     ]
    },
    {
     "data": {
      "image/png": "[encoded data removed]",
      "text/plain": [
       "<Figure size 432x288 with 1 Axes>"
      ]
     },
     "metadata": {
      "needs_background": "light"
     },
     "output_type": "display_data"
    }
   ],
   "source": [
    "x=['unique_qs' ,' q_more_than_1time']\n",
    "y=[unique_qs , q_more_than_1time]\n",
    "\n",
    "sn.barplot(x,y)\n",
    "plt.title('Plot representing unique and repeated questions ')\n",
    "plt.show()"
   ]
  },
  {
   "cell_type": "markdown",
   "id": "f60123ad",
   "metadata": {},
   "source": [
    "<h3> 3.2.3. Checking for duplicates pairs : </h3>"
   ]
  },
  {
   "cell_type": "code",
   "execution_count": 21,
   "id": "95c54aba",
   "metadata": {},
   "outputs": [
    {
     "name": "stdout",
     "output_type": "stream",
     "text": [
      "no of duplicate pairs : 0\n"
     ]
    }
   ],
   "source": [
    "pair_duplicates =df[['qid1' ,'qid2', 'is_duplicate']].groupby(['qid1' ,'qid2']).count()\n",
    "\n",
    "\n",
    "print('no of duplicate pairs :' ,pair_duplicates.shape[0]-df.shape[0])"
   ]
  },
  {
   "cell_type": "markdown",
   "id": "b9d82d33",
   "metadata": {},
   "source": [
    "<h3> 3.2.4. Number of occurances of each question </h3>"
   ]
  },
  {
   "cell_type": "code",
   "execution_count": 10,
   "id": "8ef8ea73",
   "metadata": {},
   "outputs": [
    {
     "data": {
      "image/png": "[encoded data removed]",
      "text/plain": [
       "<Figure size 1440x720 with 1 Axes>"
      ]
     },
     "metadata": {
      "needs_background": "light"
     },
     "output_type": "display_data"
    }
   ],
   "source": [
    "plt.figure(figsize=(20,10))\n",
    "\n",
    "plt.hist(qids.value_counts(), bins=160)\n",
    "\n",
    "\n",
    "plt.yscale('log')\n",
    "\n",
    "plt.title('Log-Histogram of question appearance counts')\n",
    "\n",
    "plt.xlabel('Number of occurences of question')\n",
    "\n",
    "plt.ylabel('Number of questions')\n",
    "\n",
    "plt.show()"
   ]
  },
  {
   "cell_type": "markdown",
   "id": "3bd52a6c",
   "metadata": {},
   "source": [
    "<h3> 3.2.5 Checking for null values </h3>"
   ]
  },
  {
   "cell_type": "code",
   "execution_count": 23,
   "id": "38fda5f4",
   "metadata": {},
   "outputs": [
    {
     "name": "stdout",
     "output_type": "stream",
     "text": [
      "            id    qid1    qid2                       question1 question2  \\\n",
      "105780  105780  174363  174364  How can I develop android app?       NaN   \n",
      "\n",
      "        is_duplicate  \n",
      "105780             0  \n"
     ]
    }
   ],
   "source": [
    "print(df[df.isnull().any(1)])"
   ]
  },
  {
   "cell_type": "markdown",
   "id": "05edf586",
   "metadata": {},
   "source": [
    "* There are 3 rows which consists of null values ."
   ]
  },
  {
   "cell_type": "code",
   "execution_count": 24,
   "id": "5b170b9d",
   "metadata": {},
   "outputs": [
    {
     "name": "stdout",
     "output_type": "stream",
     "text": [
      "Empty DataFrame\n",
      "Columns: [id, qid1, qid2, question1, question2, is_duplicate]\n",
      "Index: []\n"
     ]
    }
   ],
   "source": [
    "# filling the null values with ''\n",
    "df=df.fillna(' ')\n",
    "\n",
    "print(df[df.isnull().any(1)])"
   ]
  },
  {
   "cell_type": "markdown",
   "id": "840209ce",
   "metadata": {},
   "source": [
    "<h2> 3.3 Basic features extraction before cleaning </h2>"
   ]
  },
  {
   "cell_type": "markdown",
   "id": "47d116e8",
   "metadata": {},
   "source": [
    "Let's construct features like :\n",
    "* freq_qid1 = frequency of qid1 \n",
    "* freq_qid2 = frequency of qid2 \n",
    "* q1len = Length of q1\n",
    "* q2len = Length of q2 \n",
    "* q1_n_words = Number of words in question1 \n",
    "* q2_n_words = Number of words in question2 \n",
    "* word_common = Number of common unique words in q1 and q2 \n",
    "* word_total = Total no of words in q1 + Total no of words in q2 \n",
    "* word_share = word_common/word_total \n",
    "* freq_qid1+qid2 = Sum of frequency of qid1 and qid2\n",
    "* freq_qid1-qid2 = Absolute sum of frequnecy of qid1 and qid2 "
   ]
  },
  {
   "cell_type": "code",
   "execution_count": 25,
   "id": "7d701c1e",
   "metadata": {},
   "outputs": [
    {
     "data": {
      "text/html": [
       "<div>\n",
       "<style scoped>\n",
       "    .dataframe tbody tr th:only-of-type {\n",
       "        vertical-align: middle;\n",
       "    }\n",
       "\n",
       "    .dataframe tbody tr th {\n",
       "        vertical-align: top;\n",
       "    }\n",
       "\n",
       "    .dataframe thead th {\n",
       "        text-align: right;\n",
       "    }\n",
       "</style>\n",
       "<table border=\"1\" class=\"dataframe\">\n",
       "  <thead>\n",
       "    <tr style=\"text-align: right;\">\n",
       "      <th></th>\n",
       "      <th>id</th>\n",
       "      <th>qid1</th>\n",
       "      <th>qid2</th>\n",
       "      <th>question1</th>\n",
       "      <th>question2</th>\n",
       "      <th>is_duplicate</th>\n",
       "      <th>freq_qid1</th>\n",
       "      <th>freq_qid2</th>\n",
       "      <th>q1len</th>\n",
       "      <th>q2len</th>\n",
       "      <th>q1_n_words</th>\n",
       "      <th>q2_n_words</th>\n",
       "      <th>word_Common</th>\n",
       "      <th>word_Total</th>\n",
       "      <th>word_share</th>\n",
       "      <th>freq_q1+q2</th>\n",
       "      <th>freq_q1-q2</th>\n",
       "    </tr>\n",
       "  </thead>\n",
       "  <tbody>\n",
       "    <tr>\n",
       "      <th>0</th>\n",
       "      <td>0</td>\n",
       "      <td>1</td>\n",
       "      <td>2</td>\n",
       "      <td>What is the step by step guide to invest in sh...</td>\n",
       "      <td>What is the step by step guide to invest in sh...</td>\n",
       "      <td>0</td>\n",
       "      <td>1</td>\n",
       "      <td>1</td>\n",
       "      <td>66</td>\n",
       "      <td>57</td>\n",
       "      <td>14</td>\n",
       "      <td>12</td>\n",
       "      <td>10.0</td>\n",
       "      <td>23</td>\n",
       "      <td>0.434783</td>\n",
       "      <td>2</td>\n",
       "      <td>0</td>\n",
       "    </tr>\n",
       "    <tr>\n",
       "      <th>1</th>\n",
       "      <td>1</td>\n",
       "      <td>3</td>\n",
       "      <td>4</td>\n",
       "      <td>What is the story of Kohinoor (Koh-i-Noor) Dia...</td>\n",
       "      <td>What would happen if the Indian government sto...</td>\n",
       "      <td>0</td>\n",
       "      <td>1</td>\n",
       "      <td>1</td>\n",
       "      <td>51</td>\n",
       "      <td>88</td>\n",
       "      <td>8</td>\n",
       "      <td>13</td>\n",
       "      <td>4.0</td>\n",
       "      <td>20</td>\n",
       "      <td>0.200000</td>\n",
       "      <td>2</td>\n",
       "      <td>0</td>\n",
       "    </tr>\n",
       "    <tr>\n",
       "      <th>2</th>\n",
       "      <td>2</td>\n",
       "      <td>5</td>\n",
       "      <td>6</td>\n",
       "      <td>How can I increase the speed of my internet co...</td>\n",
       "      <td>How can Internet speed be increased by hacking...</td>\n",
       "      <td>0</td>\n",
       "      <td>1</td>\n",
       "      <td>1</td>\n",
       "      <td>73</td>\n",
       "      <td>59</td>\n",
       "      <td>14</td>\n",
       "      <td>10</td>\n",
       "      <td>4.0</td>\n",
       "      <td>24</td>\n",
       "      <td>0.166667</td>\n",
       "      <td>2</td>\n",
       "      <td>0</td>\n",
       "    </tr>\n",
       "    <tr>\n",
       "      <th>3</th>\n",
       "      <td>3</td>\n",
       "      <td>7</td>\n",
       "      <td>8</td>\n",
       "      <td>Why am I mentally very lonely? How can I solve...</td>\n",
       "      <td>Find the remainder when [math]23^{24}[/math] i...</td>\n",
       "      <td>0</td>\n",
       "      <td>1</td>\n",
       "      <td>1</td>\n",
       "      <td>50</td>\n",
       "      <td>65</td>\n",
       "      <td>11</td>\n",
       "      <td>9</td>\n",
       "      <td>0.0</td>\n",
       "      <td>19</td>\n",
       "      <td>0.000000</td>\n",
       "      <td>2</td>\n",
       "      <td>0</td>\n",
       "    </tr>\n",
       "    <tr>\n",
       "      <th>4</th>\n",
       "      <td>4</td>\n",
       "      <td>9</td>\n",
       "      <td>10</td>\n",
       "      <td>Which one dissolve in water quikly sugar, salt...</td>\n",
       "      <td>Which fish would survive in salt water?</td>\n",
       "      <td>0</td>\n",
       "      <td>2</td>\n",
       "      <td>1</td>\n",
       "      <td>76</td>\n",
       "      <td>39</td>\n",
       "      <td>13</td>\n",
       "      <td>7</td>\n",
       "      <td>2.0</td>\n",
       "      <td>20</td>\n",
       "      <td>0.100000</td>\n",
       "      <td>3</td>\n",
       "      <td>1</td>\n",
       "    </tr>\n",
       "  </tbody>\n",
       "</table>\n",
       "</div>"
      ],
      "text/plain": [
       "   id  qid1  qid2                                          question1  \\\n",
       "0   0     1     2  What is the step by step guide to invest in sh...   \n",
       "1   1     3     4  What is the story of Kohinoor (Koh-i-Noor) Dia...   \n",
       "2   2     5     6  How can I increase the speed of my internet co...   \n",
       "3   3     7     8  Why am I mentally very lonely? How can I solve...   \n",
       "4   4     9    10  Which one dissolve in water quikly sugar, salt...   \n",
       "\n",
       "                                           question2  is_duplicate  freq_qid1  \\\n",
       "0  What is the step by step guide to invest in sh...             0          1   \n",
       "1  What would happen if the Indian government sto...             0          1   \n",
       "2  How can Internet speed be increased by hacking...             0          1   \n",
       "3  Find the remainder when [math]23^{24}[/math] i...             0          1   \n",
       "4            Which fish would survive in salt water?             0          2   \n",
       "\n",
       "   freq_qid2  q1len  q2len  q1_n_words  q2_n_words  word_Common  word_Total  \\\n",
       "0          1     66     57          14          12         10.0          23   \n",
       "1          1     51     88           8          13          4.0          20   \n",
       "2          1     73     59          14          10          4.0          24   \n",
       "3          1     50     65          11           9          0.0          19   \n",
       "4          1     76     39          13           7          2.0          20   \n",
       "\n",
       "   word_share  freq_q1+q2  freq_q1-q2  \n",
       "0    0.434783           2           0  \n",
       "1    0.200000           2           0  \n",
       "2    0.166667           2           0  \n",
       "3    0.000000           2           0  \n",
       "4    0.100000           3           1  "
      ]
     },
     "execution_count": 25,
     "metadata": {},
     "output_type": "execute_result"
    }
   ],
   "source": [
    "if os.path.isfile('df_fe_without_preprocessing_train.csv'):\n",
    "    df=pd.read_csv('df_fe_without_preprocessing_train.csv' , encoding= 'latin-1')\n",
    "\n",
    "else:\n",
    "\n",
    "\n",
    "    df['freq_qid1']=df.groupby('qid1')['qid1'].transform('count')\n",
    "    df['freq_qid2']=df.groupby('qid2')['qid2'].transform('count')\n",
    "    df['q1len'] = df['question1'].str.len()\n",
    "    df['q2len'] = df['question2'].str.len()\n",
    "    df['q1_n_words'] = df['question1'].apply(lambda row: len(row.split(' ')))\n",
    "    df['q2_n_words'] = df['question2'].apply(lambda row: len(row.split(' ')))\n",
    "\n",
    "    def normalized_word_Common(row):\n",
    "        w1=set(map(lambda w:w.lower().strip() ,row['question1'].split(' ') ))\n",
    "        w2=set(map(lambda w:w.lower().strip() ,row['question2'].split(' ') ))\n",
    "        return 1.0 * len (w1 & w2)\n",
    "    df['word_Common'] = df.apply(normalized_word_Common, axis=1)\n",
    "    \n",
    "    \n",
    "    def normalized_word_Total(row):\n",
    "        w1= set(map(lambda w:w.lower().strip(), row['question1'].split(' ')))\n",
    "        w2=  set(map(lambda w:w.lower().strip(), row['question2'].split(' ')))\n",
    "        return 1 *  ( len(w1)+len(w2) )\n",
    "    df['word_Total']= df.apply(normalized_word_Total, axis=1)    \n",
    "\n",
    "    def normalized_word_Share(row):\n",
    "        w1=set(map(lambda w:w.lower().strip() , row['question1'].split(' ')))\n",
    "        w2=set(map(lambda w:w.lower().strip() , row['question2'].split(' ')))\n",
    "        return 1*  (  len (w1 & w2)/(len (w1) +  len(w2))  )\n",
    "    df['word_share'] = df.apply(normalized_word_Share, axis=1)\n",
    "\n",
    "    df['freq_q1+q2'] = df['freq_qid1']+df['freq_qid2']\n",
    "\n",
    "    df['freq_q1-q2'] = abs(df['freq_qid1']-df['freq_qid2'])\n",
    "\n",
    "    df.to_csv('df_fe_without_preprocessing_train.csv', index= False)\n",
    "\n",
    "df.head()"
   ]
  },
  {
   "cell_type": "markdown",
   "id": "e4aef91e",
   "metadata": {},
   "source": [
    "<h3> 3.3.1. Analysis of some of the Extracted Features : </h3>\n",
    "\n",
    "* Here are some questions with only single word ."
   ]
  },
  {
   "cell_type": "code",
   "execution_count": 27,
   "id": "c379d3c3",
   "metadata": {},
   "outputs": [
    {
     "name": "stdout",
     "output_type": "stream",
     "text": [
      "minimum length of question in question1 : 1\n",
      "\n",
      "minimum length of question in question2 : 1\n",
      "\n",
      "NO of question with minimum length[question1] : 23\n",
      "\n",
      "NO of question with minimum length[question2] : 9\n"
     ]
    }
   ],
   "source": [
    "print('minimum length of question in question1 :', min(df['q1_n_words']))\n",
    "\n",
    "print('\\nminimum length of question in question2 :', min(df['q2_n_words']))\n",
    "\n",
    "print('\\nNO of question with minimum length[question1] :',df[df['q1_n_words']==1].shape[0] )\n",
    "\n",
    "print('\\nNO of question with minimum length[question2] :',df[df['q2_n_words']==1].shape[0] )"
   ]
  },
  {
   "cell_type": "markdown",
   "id": "8c5a048a",
   "metadata": {},
   "source": [
    "<h4> 3.3.1.1. Feature Word Share </h4>"
   ]
  },
  {
   "cell_type": "code",
   "execution_count": 28,
   "id": "16124a27",
   "metadata": {},
   "outputs": [
    {
     "data": {
      "image/png": "[encoded data removed]",
      "text/plain": [
       "<Figure size 864x576 with 2 Axes>"
      ]
     },
     "metadata": {
      "needs_background": "light"
     },
     "output_type": "display_data"
    }
   ],
   "source": [
    "plt.figure(figsize=(12, 8))\n",
    "plt.subplot(1,2,1)\n",
    "sn.violinplot(x='is_duplicate', y ='word_share' , data=df[0:])\n",
    "plt.subplot(1,2,2)\n",
    "sn.histplot(data=df[0:] ,  x='word_share', hue='is_duplicate', kde=True )\n",
    "plt.show()"
   ]
  },
  {
   "cell_type": "markdown",
   "id": "c2a6959c",
   "metadata": {},
   "source": [
    "* The distributions of word_share have some overlap on the right-hand side, that means there are lot of questions with high word similarity .\n",
    "* The avg word_share of qid1 and qid2 is more when they are duplicate ."
   ]
  },
  {
   "cell_type": "markdown",
   "id": "f4f7fd1a",
   "metadata": {},
   "source": [
    "<h4> 3.3.1.4. Feature Word_Commoon </h4>"
   ]
  },
  {
   "cell_type": "code",
   "execution_count": 29,
   "id": "ff64e47f",
   "metadata": {},
   "outputs": [
    {
     "data": {
      "image/png": "[encoded data removed]",
      "text/plain": [
       "<Figure size 864x576 with 2 Axes>"
      ]
     },
     "metadata": {
      "needs_background": "light"
     },
     "output_type": "display_data"
    }
   ],
   "source": [
    "plt.figure(figsize=(12, 8))\n",
    "plt.subplot(1,2,1)\n",
    "sn.violinplot(x='is_duplicate', y ='word_Common' , data=df[0:])\n",
    "plt.subplot(1,2,2)\n",
    "sn.histplot(data=df[0:] ,  x='word_Common', hue='is_duplicate', kde=True )\n",
    "plt.show()"
   ]
  },
  {
   "cell_type": "markdown",
   "id": "43e8ed8b",
   "metadata": {},
   "source": [
    "The distribution of word_common Feature in duplicate and non duplicate features is highly overlapping."
   ]
  },
  {
   "cell_type": "code",
   "execution_count": null,
   "id": "46059e87",
   "metadata": {},
   "outputs": [],
   "source": []
  }
 ],
 "metadata": {
  "kernelspec": {
   "display_name": "Python 3",
   "language": "python",
   "name": "python3"
  },
  "language_info": {
   "codemirror_mode": {
    "name": "ipython",
    "version": 3
   },
   "file_extension": ".py",
   "mimetype": "text/x-python",
   "name": "python",
   "nbconvert_exporter": "python",
   "pygments_lexer": "ipython3",
   "version": "3.8.8"
  }
 },
 "nbformat": 4,
 "nbformat_minor": 5
}
